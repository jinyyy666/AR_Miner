{
 "cells": [
  {
   "cell_type": "markdown",
   "metadata": {},
   "source": [
    "# Project: App-Review Miner\n",
    "Team members: Shanshan Li, Yingyezhe Jin, Tianshu Chu, Xiao Huang"
   ]
  },
  {
   "cell_type": "code",
   "execution_count": 2,
   "metadata": {
    "collapsed": false
   },
   "outputs": [],
   "source": [
    "# Put all import here\n",
    "import numpy as np\n",
    "import lda\n",
    "import lda.datasets"
   ]
  },
  {
   "cell_type": "markdown",
   "metadata": {},
   "source": [
    "### NLP based preprocessing\n",
    "\n",
    "    Inputs:  datasetName\n",
    "             rmStopWords control to remove stop words\n",
    "             rmRareWords control to remove rarely occured words\n",
    "             \n",
    "    Outputs: trainSet    is a list of training reviews\n",
    "             testSet     is a list of testing reviews\n",
    "             unlabelSet  is a list of unlabeld reviews\n",
    "             vocabulary  is the corresponding n vocabulary in a dictionary form {word, index}"
   ]
  },
  {
   "cell_type": "code",
   "execution_count": 3,
   "metadata": {
    "collapsed": false
   },
   "outputs": [
    {
     "name": "stdout",
     "output_type": "stream",
     "text": [
      "Vocabulary size for templerun2 : 5527\n",
      "Training set Size: 1000\n",
      "Testing set Size: 2000\n",
      "Unlabeling set Size: 57559\n"
     ]
    }
   ],
   "source": [
    "%run ./AR_util.py\n",
    "%run ./AR_reviewInstance.py\n",
    "datasetName = \"templerun2\" # four apps : facebook, templerun2, swiftkey, tapfish\n",
    "\n",
    "rmStopWords = False # Removing stop words lead to information loss and bad f-score\n",
    "rmRareWords = True\n",
    "\n",
    "# trainSet/testSet/unlabel: dictionary of {label, reviews} for review data\n",
    "# vocabulary: dictionary len = V and the positional index of each term in the doc vector\n",
    "# set skParse True to directly read of the data that has been filtered out\n",
    "skParse = False\n",
    "if(skParse == False):\n",
    "    # the vocabulary is the words on the training set!\n",
    "    trainSet, testSet, unlabelSet, vocabulary = AR_parse(datasetName, rmStopWords, rmRareWords)"
   ]
  },
  {
   "cell_type": "markdown",
   "metadata": {},
   "source": [
    "### Naive Bayes based filtering\n",
    "\n",
    "    Inputs:  train/test/unlabelSet   are the preprocessed reviews \n",
    "             vocabulary              is the corresponding vocabulary of the reviews\n",
    "    Outputs: informMat    is a k*m np sparse matrix, k is the number of informative reviews, m is the length of vocabulary\n",
    "             informRev    is a list of informative reviews"
   ]
  },
  {
   "cell_type": "code",
   "execution_count": 4,
   "metadata": {
    "collapsed": false
   },
   "outputs": [
    {
     "name": "stdout",
     "output_type": "stream",
     "text": [
      "Average F-Score for the test data: 0.837037037037\n",
      "Number of informative reviews: 14684\n"
     ]
    }
   ],
   "source": [
    "%run ./AR_classifier.py\n",
    "# 1. Use the EM-NB or SVM to filter out the informative reviews\n",
    "# informMat: the informative reviews in X x V sparse matrix from, X: documents size, V: vocabulary size\n",
    "# informRev: corresponding reviews wrapped as a list of review instances\n",
    "useSVM = True # SVM is way better than emnb in terms of the testing. \n",
    "               # But it may not filter out the information effectively\n",
    "if(skParse == False):\n",
    "    if(useSVM == False):\n",
    "        informRev, informMat = AR_emnb(trainSet, testSet, unlabelSet, vocabulary, datasetName)\n",
    "    else:\n",
    "        informRev, informMat = AR_svm(trainSet, testSet, unlabelSet, vocabulary, datasetName)\n",
    "\n",
    "    # write the result back to the file (optional)\n",
    "    AR_writeReviews(informRev, datasetName)\n",
    "else:\n",
    "    # directly read from the file\n",
    "    informRev, informMat, vocabulary = AR_loadReviews(datasetName)\n",
    "\n",
    "print(\"Number of informative reviews: \" + str(len(informRev)))"
   ]
  },
  {
   "cell_type": "markdown",
   "metadata": {
    "collapsed": false
   },
   "source": [
    "### LDA topic clustering\n",
    "\n",
    "    Inputs:  informMat  is the k*m np sparse matrix, k is the number of informative reviews, m  is the length of vocabulary\n",
    "             informRev  is the informative review list\n",
    "             vocabulary is the corresponding vocabulary dictionary\n",
    "             n_topics   is the number of topics\n",
    "    Outputs: doc_topic  is a k*n_topics np matrix, which indicates the probability\n",
    "             vocab      is the vocabulary in the list form"
   ]
  },
  {
   "cell_type": "code",
   "execution_count": 5,
   "metadata": {
    "collapsed": false
   },
   "outputs": [
    {
     "name": "stderr",
     "output_type": "stream",
     "text": [
      "INFO:lda:n_documents: 14684\n",
      "INFO:lda:vocab_size: 5527\n",
      "INFO:lda:n_words: 238165\n",
      "INFO:lda:n_topics: 20\n",
      "INFO:lda:n_iter: 1500\n",
      "WARNING:lda:all zero column in document-term matrix found\n",
      "INFO:lda:<0> log likelihood: -2449521\n",
      "INFO:lda:<500> log likelihood: -1530662\n",
      "INFO:lda:<1000> log likelihood: -1530186\n",
      "INFO:lda:<1499> log likelihood: -1531980\n"
     ]
    },
    {
     "name": "stdout",
     "output_type": "stream",
     "text": [
      "Topic 0: it i to close and download time\n",
      "Topic 1: it but game a lag is sometim\n",
      "Topic 2: it i me play t game my\n",
      "Topic 3: i and coin the for have but\n",
      "Topic 4: run the templ but first i it\n",
      "Topic 5: the i when game and me save\n",
      "Topic 6: on my it phone galaxi not work\n",
      "Topic 7: it star i fix 5 thi but\n",
      "Topic 8: you to have if that a can\n",
      "Topic 9: the up power you a and when\n",
      "Topic 10: the is that onli a of problem\n",
      "Topic 11: the updat on fix game lag it\n",
      "Topic 12: the it screen to and then i\n",
      "Topic 13: coin object the i 000 have but\n",
      "Topic 14: i coin my and to all game\n",
      "Topic 15: the and but a more game new\n",
      "Topic 16: t i can it doesn the don\n",
      "Topic 17: the to i and when turn jump\n",
      "Topic 18: a it to but time take game\n",
      "Topic 19: to the sensit tilt need be is\n"
     ]
    }
   ],
   "source": [
    "%run ./AR_lda.py\n",
    "# 2. Use the LDA to do the grouping based on the topic\n",
    "# doc_topi : a k*n_topics np matrix, which indicates the probability of each review belongs to one of the topic\n",
    "# vocab: a list of vocabulary words\n",
    "n_topics = 20\n",
    "doc_topic, vocab = AR_lda(informRev, informMat, vocabulary, n_topics)\n"
   ]
  },
  {
   "cell_type": "code",
   "execution_count": 5,
   "metadata": {
    "collapsed": false
   },
   "outputs": [
    {
     "data": {
      "text/plain": [
       "'\\ndoc_topic = model.doc_topic_\\nClustNum = []\\n# print doc_topic[1]\\nfor i in range(k):\\n    ClustNum.append(doc_topic[i].argmax())\\nprint ClustNum\\n'"
      ]
     },
     "execution_count": 5,
     "metadata": {},
     "output_type": "execute_result"
    }
   ],
   "source": [
    "\"\"\"\n",
    "doc_topic = model.doc_topic_\n",
    "ClustNum = []\n",
    "# print doc_topic[1]\n",
    "for i in range(k):\n",
    "    ClustNum.append(doc_topic[i].argmax())\n",
    "print ClustNum\n",
    "\"\"\""
   ]
  },
  {
   "cell_type": "markdown",
   "metadata": {
    "collapsed": true
   },
   "source": [
    "### Ranking all the groups based on importance\n",
    "\n",
    "    Inputs:  doc_topic      is a k*n_topics np matrix, which indicates the probability\n",
    "             wg             is a row vector (1 * 2), where each element denotes the weight of the corresponding feature\n",
    "             informRev      is the informative review list\n",
    "    Outputs: group_scores   is a row vector (1 * 20), where each element is the score of the corresponding group\n",
    "             sorted_indices is a row vector (1 * 20), where the ith element is the index of the group whose score is the ith largest"
   ]
  },
  {
   "cell_type": "code",
   "execution_count": 6,
   "metadata": {
    "collapsed": false
   },
   "outputs": [
    {
     "name": "stdout",
     "output_type": "stream",
     "text": [
      "group scores:\n",
      "\n",
      "[800.7965037574545, 753.66775874535472, 718.95999039004676, 687.02017301992601, 679.99129377599309, 662.37558288550281, 646.72632798978282, 646.71667221013104, 644.00043362538156, 619.93516351538619, 599.46945464188843, 597.33063438765339, 593.38822862433631, 575.71063845422225, 575.2261667060319, 570.12582162378715, 553.98893350113008, 545.65492094451236, 529.2128147280514, 482.09689618694887]\n",
      "ranked indices:\n",
      "\n",
      "[12, 1, 0, 2, 17, 14, 6, 19, 5, 15, 4, 18, 16, 11, 10, 8, 7, 9, 13, 3]\n"
     ]
    }
   ],
   "source": [
    "%run ./AR_ranker.py\n",
    "wg = [0.85, 0.15]\n",
    "group_scores, sorted_group_indices = group_rank(doc_topic, wg, informRev)\n",
    "print('group scores:\\n')\n",
    "print(group_scores)\n",
    "print('ranked indices:\\n')\n",
    "print(sorted_group_indices)"
   ]
  },
  {
   "cell_type": "markdown",
   "metadata": {
    "collapsed": true
   },
   "source": [
    "### Cluster the reviews using volume and use TextRank to rank each instance\n",
    "\n",
    "    Inputs:  doc_topic  is a np matrix k*n_topic, where k is # of reviews\n",
    "             informRev  is a list of all informative reviews\n",
    "    Outputs: rankedInstance is a dict = {topic, list of ranked reviews with the score}"
   ]
  },
  {
   "cell_type": "code",
   "execution_count": 34,
   "metadata": {
    "collapsed": false
   },
   "outputs": [
    {
     "name": "stdout",
     "output_type": "stream",
     "text": [
      "In construct the graph of reviews ---- Nodes: 1021 Edges: 38072\n",
      "In construct the graph of reviews ---- Nodes: 1012 Edges: 21804\n",
      "In construct the graph of reviews ---- Nodes: 894 Edges: 37456\n",
      "In construct the graph of reviews ---- Nodes: 503 Edges: 3184\n",
      "In construct the graph of reviews ---- Nodes: 751 Edges: 4436\n",
      "In construct the graph of reviews ---- Nodes: 834 Edges: 20164\n",
      "In construct the graph of reviews ---- Nodes: 803 Edges: 11438\n",
      "In construct the graph of reviews ---- Nodes: 592 Edges: 6674\n",
      "In construct the graph of reviews ---- Nodes: 672 Edges: 1214\n",
      "In construct the graph of reviews ---- Nodes: 617 Edges: 5092\n",
      "In construct the graph of reviews ---- Nodes: 595 Edges: 1742\n",
      "In construct the graph of reviews ---- Nodes: 625 Edges: 3630\n",
      "In construct the graph of reviews ---- Nodes: 1043 Edges: 35468\n",
      "In construct the graph of reviews ---- Nodes: 567 Edges: 7974\n",
      "In construct the graph of reviews ---- Nodes: 805 Edges: 5196\n",
      "In construct the graph of reviews ---- Nodes: 726 Edges: 2752\n",
      "In construct the graph of reviews ---- Nodes: 501 Edges: 3704\n",
      "In construct the graph of reviews ---- Nodes: 819 Edges: 6036\n",
      "In construct the graph of reviews ---- Nodes: 597 Edges: 5080\n",
      "In construct the graph of reviews ---- Nodes: 707 Edges: 14232\n"
     ]
    }
   ],
   "source": [
    "%run ./AR_textrank.py\n",
    "AR_tfIdf(informRev)\n",
    "rankedInstance = AR_textrank(doc_topic, informRev)"
   ]
  },
  {
   "cell_type": "code",
   "execution_count": 31,
   "metadata": {
    "collapsed": false
   },
   "outputs": [
    {
     "name": "stdout",
     "output_type": "stream",
     "text": [
      "Instance review for topic group: 0\n",
      "[(2829, 0.0010345541059186782), (4331, 0.0010345541059186782), (1137, 0.0010345541059186779), (8233, 0.0010345541059186775), (8510, 0.0010345541059186773), (8939, 0.0010345541059186773), (9388, 0.0010345541059186773), (615, 0.0010345541059186771), (1519, 0.0010345541059186771), (3660, 0.0010345541059186771)]\n",
      "Instance review for topic group: 1\n",
      "[(6882, 0.0010593220334581201), (4571, 0.0010593220334581199), (11393, 0.0010593220334581199), (13258, 0.0010593220334581199), (2417, 0.0010593220334581196), (3720, 0.0010593220334581196), (8428, 0.0010593220334581196), (12365, 0.0010593220334581196), (3109, 0.0010593220334581194), (6013, 0.0010593220334581194)]\n",
      "Instance review for topic group: 2\n",
      "[(3970, 0.0012181751711557894), (14265, 0.0012181751711557889), (45, 0.0012181751711557878), (753, 0.0012181751711557878), (12260, 0.0012181751711557876), (13207, 0.0012181751711557876), (3537, 0.0012181751711557874), (8642, 0.0012181751711557874), (5955, 0.0012181751711557872), (6661, 0.0012181751711557868)]\n",
      "Instance review for topic group: 3\n",
      "[(3398, 0.0026571010592567621), (5088, 0.0026571010592567621), (2000, 0.0026571010592567612), (3448, 0.0026571010592567612), (935, 0.0026571010592567608), (4692, 0.0026571010592567599), (6457, 0.0026571010592567599), (1441, 0.0026571010592567595), (6536, 0.0026571010592567595), (44, 0.002657101059256759)]\n",
      "Instance review for topic group: 4\n",
      "[(424, 0.0016441959688454472), (3164, 0.0016441959688454461), (10255, 0.0016441959688454461), (303, 0.001644195968845444), (8392, 0.001644195968845444), (2516, 0.0016441959688454435), (9740, 0.0016441959688454435), (10767, 0.0016441959688454435), (13399, 0.0016441959688454435), (620, 0.0016441959688454433)]\n",
      "Instance review for topic group: 5\n",
      "[(2166, 0.0012968486564040509), (4657, 0.0012968486564040504), (271, 0.0012968486564040502), (1525, 0.0012968486564040502), (13106, 0.0012968486564040502), (13456, 0.0012968486564040502), (692, 0.00129684865640405), (1662, 0.00129684865640405), (1976, 0.00129684865640405), (4087, 0.00129684865640405)]\n",
      "Instance review for topic group: 6\n",
      "[(7775, 0.0013449899113534788), (962, 0.0013449899113534784), (225, 0.0013449899113534781), (1365, 0.0013449899113534781), (2427, 0.0013449899113534781), (6650, 0.0013449899113534781), (603, 0.0013449899113534779), (2549, 0.0013449899113534779), (5361, 0.0013449899113534779), (6427, 0.0013449899113534779)]\n",
      "Instance review for topic group: 7\n",
      "[(9455, 0.00199580878689743), (13340, 0.00199580878689743), (1243, 0.0019958087868974296), (2952, 0.0019958087868974296), (2987, 0.0019958087868974296), (3317, 0.0019958087868974296), (3434, 0.0019958087868974296), (10012, 0.0019958087868974296), (13019, 0.0019958087868974296), (195, 0.0019958087868974291)]\n",
      "Instance review for topic group: 8\n",
      "[(1432, 0.0023501761705985299), (2382, 0.0023501761705985299), (13727, 0.0023501761705985291), (14388, 0.0023501761705985291), (2408, 0.0023501761705985286), (9167, 0.0023501761705985286), (9828, 0.0023501761705985286), (12200, 0.0023501761705985286), (12327, 0.0023501761705985286), (12953, 0.0023501761705985286)]\n",
      "Instance review for topic group: 9\n",
      "[(1321, 0.0019579050338738163), (3843, 0.0019579050338738154), (447, 0.0019579050338738141), (2517, 0.0019579050338738141), (3797, 0.0019579050338738141), (4766, 0.0019579050338738141), (5533, 0.0019579050338738141), (7678, 0.0019579050338738141), (8139, 0.0019579050338738141), (8723, 0.0019579050338738141)]\n",
      "Instance review for topic group: 10\n",
      "[(59, 0.0023250406515444868), (1399, 0.0023250406515444846), (3862, 0.0023250406515444846), (1369, 0.0023250406515444837), (1906, 0.0023250406515444837), (613, 0.0023250406515444833), (918, 0.0023250406515444833), (1107, 0.0023250406515444833), (1805, 0.0023250406515444833), (2655, 0.0023250406515444833)]\n",
      "Instance review for topic group: 11\n",
      "[(3113, 0.0018935807460237384), (5629, 0.0018935807460237384), (14427, 0.0018935807460237384), (12603, 0.0018935807460237373), (13679, 0.0018935807460237373), (88, 0.0018935807460237369), (8192, 0.0018935807460237369), (10223, 0.0018935807460237369), (12873, 0.0018935807460237369), (166, 0.0018935807460237367)]\n",
      "Instance review for topic group: 12\n",
      "[(12400, 0.00099865181988123769), (14408, 0.00099865181988123769), (2528, 0.00099865181988123748), (149, 0.00099865181988123726), (311, 0.00099865181988123726), (2401, 0.00099865181988123726), (238, 0.00099865181988123704), (4798, 0.00099865181988123704), (6553, 0.00099865181988123704), (6867, 0.00099865181988123704)]\n",
      "Instance review for topic group: 13\n",
      "[(4528, 0.0020387359796149554), (6836, 0.0020387359796149554), (7722, 0.0020387359796149554), (5838, 0.002038735979614955), (8027, 0.002038735979614955), (13772, 0.002038735979614955), (14347, 0.002038735979614955), (2972, 0.0020387359796149545), (5215, 0.0020387359796149545), (7052, 0.0020387359796149545)]\n",
      "Instance review for topic group: 14\n",
      "[(3972, 0.0015140045325747814), (5486, 0.0015140045325747814), (2525, 0.0015140045325747809), (4158, 0.0015140045325747809), (3682, 0.0015140045325747805), (4516, 0.0015140045325747803), (10899, 0.0015140045325747803), (3095, 0.0015140045325747801), (1866, 0.0015140045325747799), (3403, 0.0015140045325747799)]\n",
      "Instance review for topic group: 15\n",
      "[(7356, 0.0019219680540330756), (7005, 0.0019219680540330751), (1451, 0.0019219680540330747), (1555, 0.0019219680540330747), (6337, 0.0019219680540330747), (6577, 0.0019219680540330747), (9837, 0.0019219680540330747), (12630, 0.0019219680540330747), (991, 0.0019219680540330743), (1423, 0.0019219680540330743)]\n",
      "Instance review for topic group: 16\n",
      "[(391, 0.0024236548590370606), (1605, 0.0024236548590370606), (7965, 0.0024236548590370606), (384, 0.0024236548590370601), (499, 0.0024236548590370601), (14277, 0.0024236548590370601), (254, 0.0024236548590370597), (531, 0.0024236548590370597), (734, 0.0024236548590370597), (893, 0.0024236548590370597)]\n",
      "Instance review for topic group: 17\n",
      "[(3488, 0.0014251104408836469), (3147, 0.0014251104408836467), (5936, 0.0014251104408836465), (7216, 0.0014251104408836465), (3091, 0.0014251104408836463), (1380, 0.0014251104408836458), (12512, 0.0014251104408836458), (13227, 0.0014251104408836458), (318, 0.0014251104408836456), (1567, 0.0014251104408836456)]\n",
      "Instance review for topic group: 18\n",
      "[(1275, 0.0019056693557523885), (1552, 0.0019056693557523885), (1635, 0.0019056693557523885), (2001, 0.0019056693557523885), (3158, 0.0019056693557523885), (3268, 0.0019056693557523885), (3637, 0.0019056693557523885), (7038, 0.0019056693557523885), (7452, 0.0019056693557523885), (7554, 0.0019056693557523885)]\n",
      "Instance review for topic group: 19\n",
      "[(1280, 0.0015423767991936633), (91, 0.0015423767991936629), (1479, 0.0015423767991936629), (1464, 0.0015423767991936627), (6329, 0.0015423767991936627), (7422, 0.0015423767991936627), (7919, 0.0015423767991936627), (11372, 0.0015423767991936627), (12255, 0.0015423767991936627), (1201, 0.0015423767991936622)]\n"
     ]
    }
   ],
   "source": [
    "# print the top 10 reviews:\n",
    "for i in range(len(rankedInstance)):\n",
    "    print(\"Instance review for topic group: \" + str(i))\n",
    "    print(rankedInstance[i][:10])"
   ]
  },
  {
   "cell_type": "markdown",
   "metadata": {},
   "source": [
    "### Ranking all the reviews in each group based on their importance score\n",
    "\n",
    "    Inputs: doc_topic             is a k*n_topics np matrix, which indicates the probability\n",
    "            weight                is a row vector (1 * 3), where each element denotes the weight of the corresponding feature\n",
    "    Outputs: topic_top10RevScores is a row vector (10 * 20), where each element is the ranked score of the corresponding review in each group"
   ]
  },
  {
   "cell_type": "code",
   "execution_count": 7,
   "metadata": {
    "collapsed": false
   },
   "outputs": [
    {
     "name": "stdout",
     "output_type": "stream",
     "text": [
      "Length of 0th topic has reviews: 1374\n",
      "Length of 1th topic has reviews: 1536\n",
      "Length of 2th topic has reviews: 1273\n",
      "Length of 3th topic has reviews: 737\n",
      "Length of 4th topic has reviews: 1204\n",
      "Length of 5th topic has reviews: 1204\n",
      "Length of 6th topic has reviews: 1291\n",
      "Length of 7th topic has reviews: 1062\n",
      "Length of 8th topic has reviews: 1102\n",
      "Length of 9th topic has reviews: 946\n",
      "Length of 10th topic has reviews: 1121\n",
      "Length of 11th topic has reviews: 1117\n",
      "Length of 12th topic has reviews: 1481\n",
      "Length of 13th topic has reviews: 861\n",
      "Length of 14th topic has reviews: 1243\n",
      "Length of 15th topic has reviews: 1180\n",
      "Length of 16th topic has reviews: 1205\n",
      "Length of 17th topic has reviews: 1339\n",
      "Length of 18th topic has reviews: 1151\n",
      "Length of 19th topic has reviews: 1268\n"
     ]
    }
   ],
   "source": [
    "%run ./AR_reviewRanking.py\n",
    "AR_tfIdf(informRev)\n",
    "weight = [0.25, 0.25, 0.25, 0.25]\n",
    "topic_top10RevScores = instance_ranking(doc_topic, weight, informRev)"
   ]
  },
  {
   "cell_type": "code",
   "execution_count": 8,
   "metadata": {
    "collapsed": false,
    "scrolled": true
   },
   "outputs": [
    {
     "name": "stdout",
     "output_type": "stream",
     "text": [
      "Instance reviews for topic: 0\n",
      "[(993, 0.97031250000000002), (12493, 0.96346153846153848), (10283, 0.95250000000000001), (5117, 0.94722222222222219), (2588, 0.94722222222222219), (22, 0.94722222222222219), (6377, 0.94062500000000004), (4873, 0.93214285714285716), (13424, 0.92749999999999999), (6336, 0.92083333333333339)]\n",
      "Instance reviews for topic: 1\n",
      "[(12108, 0.89642857142857146), (2801, 0.82750000000000001), (9635, 0.79444444444444451), (6148, 0.77395833333333341), (13990, 0.76547619047619053), (4457, 0.75972222222222219), (2472, 0.75972222222222219), (7025, 0.75833333333333341), (4348, 0.75416666666666676), (6144, 0.75312500000000004)]\n",
      "Instance reviews for topic: 2\n",
      "[(4949, 0.96346153846153848), (2765, 0.96346153846153848), (6916, 0.96346153846153848), (6371, 0.96346153846153848), (11113, 0.95735294117647052), (11040, 0.95681818181818179), (4865, 0.95468750000000002), (7110, 0.94722222222222219), (8675, 0.94722222222222219), (8670, 0.94722222222222219)]\n",
      "Instance reviews for topic: 3\n",
      "[(14581, 0.97205882352941175), (14504, 0.91944444444444451), (14502, 0.90500000000000003), (12259, 0.89218750000000002), (6276, 0.83951612903225803), (5985, 0.80249999999999999), (10339, 0.78281250000000002), (11633, 0.76547619047619053), (10312, 0.73814102564102568), (4449, 0.73303571428571423)]\n",
      "Instance reviews for topic: 4\n",
      "[(8862, 0.88055555555555554), (14147, 0.81458333333333333), (12657, 0.73467741935483866), (4901, 0.73409090909090913), (10134, 0.71854838709677415), (13810, 0.71413043478260863), (8456, 0.70714285714285718), (3912, 0.70124999999999993), (1786, 0.69722222222222219), (5020, 0.67749999999999999)]\n",
      "Instance reviews for topic: 5\n",
      "[(3832, 0.95972222222222214), (1727, 0.91944444444444451), (4681, 0.91944444444444451), (4807, 0.91874999999999996), (4745, 0.90500000000000003), (4336, 0.89166666666666672), (12823, 0.84333333333333338), (1576, 0.83235294117647052), (14041, 0.79679487179487185), (4261, 0.79621212121212115)]\n",
      "Instance reviews for topic: 6\n",
      "[(13073, 0.93409090909090908), (10493, 0.91136363636363638), (1392, 0.90500000000000003), (9017, 0.89464285714285718), (4085, 0.87749999999999995), (5329, 0.86590909090909096), (1880, 0.86071428571428577), (5336, 0.86071428571428577), (9024, 0.85250000000000004), (6290, 0.84687500000000004)]\n",
      "Instance reviews for topic: 7\n",
      "[(11701, 0.94423076923076921), (3518, 0.73499999999999999), (11119, 0.70250000000000001), (9251, 0.70113636363636367), (12236, 0.69821428571428568), (3951, 0.69166666666666665), (681, 0.69062500000000004), (10803, 0.69062500000000004), (14406, 0.67840909090909096), (6621, 0.67749999999999999)]\n",
      "Instance reviews for topic: 8\n",
      "[(8997, 0.87656250000000002), (6560, 0.74264705882352944), (14475, 0.69166666666666665), (1563, 0.66944444444444451), (14067, 0.66805555555555551), (4524, 0.66805555555555551), (8216, 0.66805555555555551), (12499, 0.66374999999999995), (6402, 0.66374999999999995), (12980, 0.66349999999999998)]\n",
      "Instance reviews for topic: 9\n",
      "[(4343, 0.92946428571428563), (2326, 0.84479166666666661), (5689, 0.82321428571428568), (9105, 0.78541666666666665), (5873, 0.78083333333333338), (9826, 0.7800724637681159), (1174, 0.77596153846153848), (9389, 0.77467948717948709), (12057, 0.76538461538461533), (14306, 0.75078124999999996)]\n",
      "Instance reviews for topic: 10\n",
      "[(13101, 0.81562500000000004), (822, 0.74134615384615388), (12730, 0.74090909090909096), (11829, 0.73124999999999996), (5572, 0.68999999999999995), (13595, 0.68500000000000005), (1025, 0.67343750000000002), (1829, 0.66833333333333333), (10048, 0.66249999999999998), (9059, 0.66022727272727266)]\n",
      "Instance reviews for topic: 11\n",
      "[(6192, 0.91944444444444451), (5653, 0.91249999999999998), (12044, 0.83499999999999996), (9200, 0.75312500000000004), (7360, 0.70250000000000001), (75, 0.69464285714285712), (5560, 0.68500000000000005), (10485, 0.68409090909090908), (4978, 0.68295454545454537), (11594, 0.68194444444444446)]\n",
      "Instance reviews for topic: 12\n",
      "[(10869, 0.97738095238095235), (683, 0.96833333333333338), (8513, 0.95972222222222214), (2592, 0.95468750000000002), (2583, 0.95468750000000002), (722, 0.95250000000000001), (4011, 0.9486842105263158), (21, 0.94722222222222219), (9774, 0.94423076923076921), (12216, 0.94062500000000004)]\n",
      "Instance reviews for topic: 13\n",
      "[(11495, 0.91374999999999995), (12410, 0.8985294117647058), (738, 0.84318181818181825), (9160, 0.78874999999999995), (9944, 0.78589743589743588), (14116, 0.77598039215686276), (14620, 0.77434210526315783), (11614, 0.76718750000000002), (10749, 0.76607142857142851), (11293, 0.7615384615384615)]\n",
      "Instance reviews for topic: 14\n",
      "[(11553, 0.95681818181818179), (2326, 0.85520833333333335), (4285, 0.84864864864864864), (5751, 0.82837837837837824), (10934, 0.77434210526315783), (6833, 0.76920289855072466), (9811, 0.72031250000000002), (8237, 0.71833333333333338), (11947, 0.71833333333333327), (6338, 0.70681818181818179)]\n",
      "Instance reviews for topic: 15\n",
      "[(1847, 0.7024999999999999), (8259, 0.67749999999999999), (5948, 0.63981481481481484), (451, 0.61696428571428563), (10628, 0.61590909090909096), (9812, 0.60441176470588232), (3213, 0.60166666666666668), (8515, 0.60166666666666668), (5221, 0.59910714285714284), (10529, 0.59910714285714284)]\n",
      "Instance reviews for topic: 16\n",
      "[(1766, 0.92083333333333339), (4844, 0.92083333333333339), (4495, 0.90595238095238084), (5676, 0.87916666666666665), (11569, 0.85166666666666668), (5953, 0.84687500000000004), (11293, 0.72307692307692306), (4483, 0.7104166666666667), (7943, 0.71011904761904754), (4836, 0.69722222222222219)]\n",
      "Instance reviews for topic: 17\n",
      "[(12973, 0.7776515151515152), (4421, 0.75972222222222219), (3950, 0.72205882352941175), (9239, 0.71987179487179476), (13872, 0.70735294117647052), (4671, 0.70250000000000001), (8970, 0.70064102564102559), (508, 0.6986842105263158), (7915, 0.69722222222222219), (13966, 0.68906250000000002)]\n",
      "Instance reviews for topic: 18\n",
      "[(13392, 0.80714285714285716), (11246, 0.72386363636363638), (1298, 0.70714285714285718), (12525, 0.70250000000000001), (13012, 0.68833333333333324), (8550, 0.68529411764705883), (12156, 0.68214285714285716), (4899, 0.68194444444444446), (1809, 0.67749999999999999), (12518, 0.67083333333333328)]\n",
      "Instance reviews for topic: 19\n",
      "[(14280, 0.92343750000000002), (1267, 0.81458333333333333), (3985, 0.78055555555555556), (7690, 0.7729166666666667), (14340, 0.7729166666666667), (9225, 0.75972222222222219), (7308, 0.7583333333333333), (3601, 0.75416666666666665), (4987, 0.74090909090909096), (1341, 0.70250000000000001)]\n"
     ]
    }
   ],
   "source": [
    "# print the top 10 reviews:\n",
    "for i in range(len(topic_top10RevScores)):\n",
    "    print(\"Instance reviews for topic: \" + str(i))\n",
    "    print(topic_top10RevScores[i])"
   ]
  },
  {
   "cell_type": "markdown",
   "metadata": {
    "collapsed": true
   },
   "source": [
    "### Visualization\n",
    "\n",
    "    Inputs:  group_scores is a list of scores of each group\n",
    "    Outputs: a radar chart"
   ]
  },
  {
   "cell_type": "code",
   "execution_count": 38,
   "metadata": {
    "collapsed": false
   },
   "outputs": [
    {
     "data": {
      "image/png": "[encoded data removed]",
      "text/plain": [
       "<matplotlib.figure.Figure at 0x118192b0>"
      ]
     },
     "metadata": {},
     "output_type": "display_data"
    }
   ],
   "source": [
    "%run ./AR_visualization.py\n",
    "\n",
    "N = 10\n",
    "theta = radar_factory(N, frame='polygon')\n",
    "\n",
    "fig = plt.figure()\n",
    "ax = fig.add_subplot(1, 1, 1, projection='radar')\n",
    "ax.set_title('Grouo scores', weight='bold', size='medium', position=(0.5, 1.1), horizontalalignment='center', verticalalignment='center')\n",
    "ax.plot(theta, group_scores[0:10], color='k')\n",
    "ax.set_varlabels(sorted_group_indices)\n",
    "plt.show()"
   ]
  },
  {
   "cell_type": "code",
   "execution_count": null,
   "metadata": {
    "collapsed": true
   },
   "outputs": [],
   "source": []
  }
 ],
 "metadata": {
  "anaconda-cloud": {},
  "kernelspec": {
   "display_name": "Python 2",
   "language": "python",
   "name": "python2"
  },
  "language_info": {
   "codemirror_mode": {
    "name": "ipython",
    "version": 2
   },
   "file_extension": ".py",
   "mimetype": "text/x-python",
   "name": "python",
   "nbconvert_exporter": "python",
   "pygments_lexer": "ipython2",
   "version": "2.7.13"
  }
 },
 "nbformat": 4,
 "nbformat_minor": 0
}
