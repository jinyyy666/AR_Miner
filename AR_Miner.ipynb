{
 "cells": [
  {
   "cell_type": "markdown",
   "metadata": {},
   "source": [
    "# Project: App-Review Miner\n",
    "Team members: Shanshan Li, Yingyezhe Jin, Tianshu Chu, Xiao Huang"
   ]
  },
  {
   "cell_type": "code",
   "execution_count": 10,
   "metadata": {
    "collapsed": false
   },
   "outputs": [],
   "source": [
    "# Put all import here\n",
    "import numpy as np\n",
    "import lda\n",
    "import lda.datasets"
   ]
  },
  {
   "cell_type": "markdown",
   "metadata": {},
   "source": [
    "### NLP based preprocessing\n",
    "\n",
    "    Inputs:  datasetName\n",
    "             rmStopWords control to remove stop words\n",
    "             rmRareWords control to remove rarely occured words\n",
    "             \n",
    "    Outputs: trainSet    is a list of training reviews\n",
    "             testSet     is a list of testing reviews\n",
    "             unlabelSet  is a list of unlabeld reviews\n",
    "             vocabulary  is the corresponding n vocabulary in a dictionary form {word, index}"
   ]
  },
  {
   "cell_type": "code",
   "execution_count": 76,
   "metadata": {
    "collapsed": false
   },
   "outputs": [
    {
     "name": "stdout",
     "output_type": "stream",
     "text": [
      "Vocabulary size for templerun2 : 5283\n",
      "Training set Size: 1000\n",
      "Testing set Size: 2000\n",
      "Unlabeling set Size: 57559\n"
     ]
    }
   ],
   "source": [
    "%run ./AR_util.py\n",
    "%run ./AR_reviewInstance.py\n",
    "datasetName = \"templerun2\" # four apps : facebook, templerun2, swiftkey, tapfish\n",
    "\n",
    "rmStopWords = True # Removing stop words lead to information loss and bad f-score\n",
    "rmRareWords = True\n",
    "\n",
    "# trainSet/testSet/unlabel: dictionary of {label, reviews} for review data\n",
    "# vocabulary: dictionary len = V and the positional index of each term in the doc vector\n",
    "# set skParse True to directly read of the data that has been filtered out\n",
    "skParse = False\n",
    "if(skParse == False):\n",
    "    # the vocabulary is the words on the training set!\n",
    "    trainSet, testSet, unlabelSet, vocabulary = AR_parse(datasetName, rmStopWords, rmRareWords)"
   ]
  },
  {
   "cell_type": "markdown",
   "metadata": {},
   "source": [
    "### Naive Bayes based filtering\n",
    "\n",
    "    Inputs:  train/test/unlabelSet   are the preprocessed reviews \n",
    "             vocabulary              is the corresponding vocabulary of the reviews\n",
    "    Outputs: informMat    is a k*m np sparse matrix, k is the number of informative reviews, m is the length of vocabulary\n",
    "             informRev    is a list of informative reviews"
   ]
  },
  {
   "cell_type": "code",
   "execution_count": 77,
   "metadata": {
    "collapsed": false
   },
   "outputs": [
    {
     "name": "stdout",
     "output_type": "stream",
     "text": [
      "Average F-Score for the test data: 0.829510754251\n",
      "Number of informative reviews: 13672\n"
     ]
    }
   ],
   "source": [
    "%run ./AR_classifier.py\n",
    "# 1. Use the EM-NB or SVM to filter out the informative reviews\n",
    "# informMat: the informative reviews in X x V sparse matrix from, X: documents size, V: vocabulary size\n",
    "# informRev: corresponding reviews wrapped as a list of review instances\n",
    "useSVM = True # SVM is way better than emnb in terms of the testing. \n",
    "               # But it may not filter out the information effectively\n",
    "if(skParse == False):\n",
    "    if(useSVM == False):\n",
    "        informRev, informMat = AR_emnb(trainSet, testSet, unlabelSet, vocabulary, datasetName)\n",
    "    else:\n",
    "        informRev, informMat = AR_svm(trainSet, testSet, unlabelSet, vocabulary, datasetName)\n",
    "\n",
    "    # write the result back to the file (optional)\n",
    "    AR_writeReviews(informRev, datasetName)\n",
    "else:\n",
    "    # directly read from the file\n",
    "    informRev, informMat, vocabulary = AR_loadReviews(datasetName)\n",
    "\n",
    "print(\"Number of informative reviews: \" + str(len(informRev)))"
   ]
  },
  {
   "cell_type": "markdown",
   "metadata": {
    "collapsed": false
   },
   "source": [
    "### LDA topic clustering\n",
    "\n",
    "    Inputs:  informMat  is the k*m np sparse matrix, k is the number of informative reviews, m  is the length of vocabulary\n",
    "             informRev  is the informative review list\n",
    "             vocabulary is the corresponding vocabulary dictionary\n",
    "             n_topics   is the number of topics\n",
    "    Outputs: doc_topic  is a k*n_topics np matrix, which indicates the probability\n",
    "             vocab      is the vocabulary in the list form"
   ]
  },
  {
   "cell_type": "code",
   "execution_count": 78,
   "metadata": {
    "collapsed": false
   },
   "outputs": [
    {
     "name": "stderr",
     "output_type": "stream",
     "text": [
      "INFO:lda:n_documents: 13672\n",
      "INFO:lda:vocab_size: 5283\n",
      "INFO:lda:n_words: 107573\n",
      "INFO:lda:n_topics: 20\n",
      "INFO:lda:n_iter: 1000\n",
      "WARNING:lda:all zero column in document-term matrix found\n",
      "INFO:lda:<0> log likelihood: -1159718\n",
      "INFO:lda:<500> log likelihood: -715181\n",
      "INFO:lda:<999> log likelihood: -714484\n"
     ]
    },
    {
     "name": "stdout",
     "output_type": "stream",
     "text": [
      "Topic 0: screen load back imangi open close home\n",
      "Topic 1: coin get game upgrad keep purchas collect\n",
      "Topic 2: game good littl bit lag sometim realli\n",
      "Topic 3: power coin one powerup magnet get time\n",
      "Topic 4: lag game phone freez sometim awesom xperia\n",
      "Topic 5: game need new charact like make could\n",
      "Topic 6: fix star pleas give game problem would\n",
      "Topic 7: game screen play even score sound turn\n",
      "Topic 8: save game use crash gem time tri\n",
      "Topic 9: sensit tilt need option control improv could\n",
      "Topic 10: wont play even let open phone game\n",
      "Topic 11: turn tilt jump right phone side sometim\n",
      "Topic 12: download fix galaxi pleas samsung error say\n",
      "Topic 13: object coin level get complet lifetim still\n",
      "Topic 14: game freez lag die get start time\n",
      "Topic 15: lag game updat graphic run great even\n",
      "Topic 16: sometim run get boost go speed jump\n",
      "Topic 17: game take time play download good htc\n",
      "Topic 18: run templ one first like better game\n",
      "Topic 19: close time forc open play tri game\n"
     ]
    }
   ],
   "source": [
    "%run ./AR_lda.py\n",
    "# 2. Use the LDA to do the grouping based on the topic\n",
    "# doc_topi : a k*n_topics np matrix, which indicates the probability of each review belongs to one of the topic\n",
    "# vocab: a list of vocabulary words\n",
    "n_topics = 20\n",
    "doc_topic, vocab = AR_lda(informRev, informMat, vocabulary, n_topics)\n"
   ]
  },
  {
   "cell_type": "markdown",
   "metadata": {
    "collapsed": true
   },
   "source": [
    "### Ranking all the groups based on importance\n",
    "\n",
    "    Inputs:  doc_topic      is a k*n_topics np matrix, which indicates the probability\n",
    "             wg             is a row vector (1 * 2), where each element denotes the weight of the corresponding feature\n",
    "             informRev      is the informative review list\n",
    "    Outputs: group_scores   is a row vector (1 * 20), where each element is the score of the corresponding group\n",
    "             sorted_indices is a row vector (1 * 20), where the ith element is the index of the group whose score is the ith largest"
   ]
  },
  {
   "cell_type": "code",
   "execution_count": 79,
   "metadata": {
    "collapsed": false
   },
   "outputs": [
    {
     "name": "stdout",
     "output_type": "stream",
     "text": [
      "group scores:\n",
      "\n",
      "[691.6676028296182, 678.94141842819181, 645.99005302561773, 645.01767718730753, 643.68260648137698, 623.28982050408138, 621.1742499000834, 597.27861838270064, 590.23466534856868, 585.2647975835481, 578.58789267004136, 556.9458657957141, 551.02200399000037, 542.82780585311218, 539.66398503350183, 538.95665828765777, 516.7252512056715, 512.8350230872594, 492.21835380658217, 469.88265614751185]\n",
      "ranked indices:\n",
      "\n",
      "[0, 1, 19, 9, 10, 2, 14, 5, 6, 8, 11, 13, 12, 17, 15, 4, 18, 16, 3, 7]\n"
     ]
    }
   ],
   "source": [
    "%run ./AR_ranker.py\n",
    "wg = [0.85, 0.15]\n",
    "group_scores, sorted_group_indices = group_rank(doc_topic, wg, informRev)\n",
    "print('group scores:\\n')\n",
    "print(group_scores)\n",
    "print('ranked indices:\\n')\n",
    "print(sorted_group_indices)"
   ]
  },
  {
   "cell_type": "markdown",
   "metadata": {
    "collapsed": true
   },
   "source": [
    "### Cluster the reviews using volume and use TextRank to rank each instance\n",
    "\n",
    "    Inputs:  doc_topic  is a np matrix k*n_topic, where k is # of reviews\n",
    "             informRev  is a list of all informative reviews\n",
    "    Outputs: rankedInstance is a dict = {topic, list of ranked reviews with the score}"
   ]
  },
  {
   "cell_type": "code",
   "execution_count": 80,
   "metadata": {
    "collapsed": false
   },
   "outputs": [
    {
     "name": "stdout",
     "output_type": "stream",
     "text": [
      "In construct the graph of reviews ---- Nodes: 1028 Edges: 41878\n",
      "In construct the graph of reviews ---- Nodes: 1043 Edges: 17482\n",
      "In construct the graph of reviews ---- Nodes: 928 Edges: 20648\n",
      "In construct the graph of reviews ---- Nodes: 565 Edges: 5034\n",
      "In construct the graph of reviews ---- Nodes: 679 Edges: 10312\n",
      "In construct the graph of reviews ---- Nodes: 741 Edges: 5402\n",
      "In construct the graph of reviews ---- Nodes: 664 Edges: 11320\n",
      "In construct the graph of reviews ---- Nodes: 484 Edges: 3098\n",
      "In construct the graph of reviews ---- Nodes: 728 Edges: 22898\n",
      "In construct the graph of reviews ---- Nodes: 822 Edges: 25402\n",
      "In construct the graph of reviews ---- Nodes: 799 Edges: 39180\n",
      "In construct the graph of reviews ---- Nodes: 681 Edges: 8758\n",
      "In construct the graph of reviews ---- Nodes: 573 Edges: 21804\n",
      "In construct the graph of reviews ---- Nodes: 583 Edges: 9628\n",
      "In construct the graph of reviews ---- Nodes: 681 Edges: 7914\n",
      "In construct the graph of reviews ---- Nodes: 545 Edges: 6756\n",
      "In construct the graph of reviews ---- Nodes: 489 Edges: 1882\n",
      "In construct the graph of reviews ---- Nodes: 496 Edges: 6258\n",
      "In construct the graph of reviews ---- Nodes: 417 Edges: 3954\n",
      "In construct the graph of reviews ---- Nodes: 726 Edges: 49168\n"
     ]
    }
   ],
   "source": [
    "%run ./AR_textrank.py\n",
    "AR_tfIdf(informRev)\n",
    "rankedInstance = AR_textrank(doc_topic, informRev)"
   ]
  },
  {
   "cell_type": "code",
   "execution_count": 81,
   "metadata": {
    "collapsed": false
   },
   "outputs": [
    {
     "name": "stdout",
     "output_type": "stream",
     "text": [
      "Instance review for topic group: 0\n",
      "1th review Text: doesnt open on dell streak 5 Score: 0.000999200639146\n",
      "2th review Text: dosent open on my dell streak Score: 0.000999200639146\n",
      "3th review Text: android 2 2 2 dell streak 5 please check since it crashes to home screen without showing error Score: 0.000999200639146\n",
      "4th review Text: when i open with my lg thrill i get the imangi studios icon like normal but then it closes down Score: 0.000999200639146\n",
      "5th review Text: with a stock dell streak all i get is a force close Score: 0.000999200639146\n",
      "Instance review for topic group: 1\n",
      "1th review Text: after a couple runs i lose all of my coins except for a few hundred and then my coins from the run i ve just finished will add onto those couple hundred Score: 0.00103103412663\n",
      "2th review Text: noticed coins disappear they dont stay when iver a certain amount so u can never get 5000 or 10000 coins i got the 1000000 coin mark for tge level n didnt even see or use them Score: 0.00103103412663\n",
      "3th review Text: but if i pause my game it will delete it if i go off the app Score: 0.00103103412663\n",
      "4th review Text: if it wasnt for the fact that i collected 3000 coins in one long run only to go back and realise that they have dissapeared i would give this a 3 Score: 0.00103103412663\n",
      "5th review Text: it s a fun and awesome game for the most part but i had over 3000 coins and it took all my coins but 174 of them i was trying to unlock another person but i couldn t because it keeps taking my coins Score: 0.00103103412663\n",
      "Instance review for topic group: 2\n",
      "1th review Text: friends with ipads seem slightly glitchy and not so smooth ha ha totally whipping them Score: 0.00112714156862\n",
      "2th review Text: friends with ipads seem slightly glitchy and not so smooth ha ha totally whipping them Score: 0.00112714156862\n",
      "3th review Text: if this is really what the deal is then you will not get past the boredom of doing the same thing over and over and not getting any closer to achieving any kind of meaningful progress Score: 0.00112714156862\n",
      "4th review Text: if this is really what the deal is then you will not get past the boredom of doing the same thing over and over and not getting any closer to achieving any kind of meaningful progress Score: 0.00112714156862\n",
      "5th review Text: all of the bonuses and power ups in the game must cost no more than 600 000 coins combined Score: 0.00112714156862\n",
      "Instance review for topic group: 3\n",
      "1th review Text: and make the boosts and special coin powerups last longer Score: 0.0020086371302\n",
      "2th review Text: plus coin magnet here doesn t triple coib value so getting coins is a bit harder Score: 0.0020086371302\n",
      "3th review Text: would it be too much to ask if the magnet still doubled in tripled coin value Score: 0.0020086371302\n",
      "4th review Text: no more lags at last Score: 0.0020086371302\n",
      "5th review Text: also my coins keep getting used for a boost Score: 0.0020086371302\n",
      "Instance review for topic group: 4\n",
      "1th review Text: no lags nthn Score: 0.0015627441755\n",
      "2th review Text: no lags nthn Score: 0.0015627441755\n",
      "3th review Text: no lags nthn Score: 0.0015627441755\n",
      "4th review Text: please fix this crashing yet awesome app Score: 0.0015627441755\n",
      "5th review Text: a quad core device lagging on a game like this Score: 0.0015627441755\n",
      "Instance review for topic group: 5\n",
      "1th review Text: its betta then the old one but needs more ppl Score: 0.00159897664129\n",
      "2th review Text: tilt feels weird turning corners feels weird etc etc hope they update it and make it better much better Score: 0.00159897664129\n",
      "3th review Text: there is no african american girl character and i had 121 gems then i used 5 during the course of my run after i died when i went back to the main screen it said i only had 59 wth Score: 0.00159897664129\n",
      "4th review Text: this game brings back the fun of temple run and adds a whole new level of complexity and difficulty to it Score: 0.00159897664129\n",
      "5th review Text: this is way better but downloaded slow enjoy everybody it is mad cool Score: 0.00159897664129\n",
      "Instance review for topic group: 6\n",
      "1th review Text: everytime i click on the game it crashes please fix hurry up and fix the problem geez you guys are not helpful grr Score: 0.00164041994418\n",
      "2th review Text: everytime i click on the game it crashes please fix hurry up and fix the problem geez you guys are not helpful grr after update still force closing really unhapping hurry up and fix it i really wany to play the game im very annoyed with you guys Score: 0.00164041994418\n",
      "3th review Text: everytime i click on the game it crashes please fix hurry up and fix the problem geez you guys are not helpful grr after update still force closing really unhapping hurry up and fix it i really wany to play the game im very annoyed with you guys Score: 0.00164041994418\n",
      "4th review Text: hurry up or your going to die Score: 0.00164041994418\n",
      "5th review Text: but i have some problem sometimes i have a lag when i play temple run2 the character only run in the same place stuck i hope you can give some update to fix the bug and i will give you 5 stars soon thanks hehe d nb my phone sgs ii with 4 1 2 os official Score: 0.00164041994418\n",
      "Instance review for topic group: 7\n",
      "1th review Text: cuts off loading screen Score: 0.00237953596209\n",
      "2th review Text: this means i played to a high score and many coins for at least 5 times without getting anything because the game stops and quits after freezing Score: 0.00237953596209\n",
      "3th review Text: i set the graphics at the highest and its still buttery smooth Score: 0.00237953596209\n",
      "4th review Text: when i went to play this game it came up big on my screen and i couldn t play it because i couldn t see the road ahead Score: 0.00237953596209\n",
      "5th review Text: the improvements to this game are windowing wouldn t even know it was made by the same developer Score: 0.00237953596209\n",
      "Instance review for topic group: 8\n",
      "1th review Text: good game and graphics but can you fix the bugs when you were ressurecting too much for example i have 5 mil points then i die if i ressurect the game will crash Score: 0.00143564711754\n",
      "2th review Text: i turned the music off on the game and now the app crashes Score: 0.00143564711754\n",
      "3th review Text: good game and graphics but can you fix the bugs when you were ressurecting too much for example i have 5 mil points then i die if i ressurect the game will crash Score: 0.00143564711754\n",
      "4th review Text: previously i had some issues it crashed when i wanted to resurrect but since the last update it is simply perfect Score: 0.00143564711754\n",
      "5th review Text: the update is great a bit speedy and when am trying to exit my phone stick and i have to restart my phone Score: 0.00143564711754\n",
      "Instance review for topic group: 9\n",
      "1th review Text: read comments about sensitivity but its just fine for me Score: 0.00127453479429\n",
      "2th review Text: i agree w an earlier comment theres times when theres a delayed response causing player to die Score: 0.00127453479429\n",
      "3th review Text: but please pay attention to the previous comments of the players about the coin issue as i also experience the same Score: 0.00127453479429\n",
      "4th review Text: addicting game overall graphics nd performance is good on my galaxy tab 2 but only issue is sensitivity i need to tilt ma tab a lot whch i didnt like plsss fix it asap thn i ll rate five stars Score: 0.00127453479429\n",
      "5th review Text: nice game but tilt response is sub par Score: 0.00127453479429\n",
      "Instance review for topic group: 10\n",
      "1th review Text: seriously guys like wtf you made temple run even worse i haven t been able to play it since january if you don t fix it soon i m uninstalling and not really downloading it Score: 0.00130718954215\n",
      "2th review Text: i am not able to exit the temple run 2 app from my htc explorer phone guess the makers dont want us to exit the game ever Score: 0.00130718954215\n",
      "3th review Text: plays very smooth Score: 0.00130718954215\n",
      "4th review Text: freezes when i is shown Score: 0.00130718954215\n",
      "5th review Text: just as i downloaded it when i taped onr that game it is not loading fix it please improve the major improvements by two weeks need to play Score: 0.00130718954215\n",
      "Instance review for topic group: 11\n",
      "1th review Text: i hate having to tilt my phone 30 degrees to keep to one side Score: 0.00162906247311\n",
      "2th review Text: i can t even swype left or right without even dying because of the lag dont download Score: 0.00162906247311\n",
      "3th review Text: feels a little glitchy at times and turning your phone from side to side doesn t work as well Score: 0.00162906247311\n",
      "4th review Text: please change the camera perspective so we can see what will happen after we turn right or left Score: 0.00162906247311\n",
      "5th review Text: i can t even move to the side without turning my tablet around Score: 0.00162906247311\n",
      "Instance review for topic group: 12\n",
      "1th review Text: everytime i open it up it crashes on me i dont ecen get to play the game please fix it Score: 0.00185821796325\n",
      "2th review Text: dont fit on my device display micromax a25 plz fix Score: 0.00185821796325\n",
      "3th review Text: suffice to say i fixed the problem and gave myself a few extras by modifying my save file Score: 0.00185821796325\n",
      "4th review Text: need i say more dev Score: 0.00185821796325\n",
      "5th review Text: it dosnt installs says package file invalid Score: 0.00185821796325\n",
      "Instance review for topic group: 13\n",
      "1th review Text: lose coins at random times Score: 0.00186480186161\n",
      "2th review Text: therefore you can be on a ten million point run that took about 7 real time minutes to get to and on that run you used 10 gems and collected almost 8 000 coins it will crash and you will not have collected those 8 000 clubs but you still will have lost those 10 gems Score: 0.00186480186161\n",
      "3th review Text: it still lets you jump but there are no coins Score: 0.00186480186161\n",
      "4th review Text: after having it for approximately a week the tilt stopped working Score: 0.00186480186161\n",
      "5th review Text: but i can t find my coins no matter how much i collect i only find 300 coins plzz help Score: 0.00186480186161\n",
      "Instance review for topic group: 14\n",
      "1th review Text: this game has absolutely terrible lag Score: 0.00156617070683\n",
      "2th review Text: game needs to have a sensitivity option and during game play there s a lot of times when you just fall through the ground when you know you ve completed the jump Score: 0.00156617070683\n",
      "3th review Text: the gameplay is fun but freezes my phone and laggs or doesn t register my movments Score: 0.00156617070683\n",
      "4th review Text: great game alot of fun the only problem am having is that coins jewels keep disagreeing i cant get pass 5000 Score: 0.00156617070683\n",
      "5th review Text: but i really hate starting over each level everytime a mistake happens Score: 0.00156617070683\n",
      "Instance review for topic group: 15\n",
      "1th review Text: but its runs smooth as butter on my phone thanks imangi Score: 0.00202081437781\n",
      "2th review Text: i runs butter smooth Score: 0.00202081437781\n",
      "3th review Text: great work but lagging a bit even if running with low graphics Score: 0.00202081437781\n",
      "4th review Text: well to complicated and always freezes on my galaxy s3 Score: 0.00202081437781\n",
      "5th review Text: i don t expect lag while on an s3 Score: 0.00202081437781\n",
      "Instance review for topic group: 16\n",
      "1th review Text: my only complaint is that it forces closed sometimes Score: 0.00262432748092\n",
      "2th review Text: it is good but in the background there is a lot of yellow colour which makes it a bit dull in the greenry also there is a lot of yellow Score: 0.00262432748092\n",
      "3th review Text: i wish there were swimming and sky diving sections like survival run o week maybe temple run 3 lol Score: 0.00262432748092\n",
      "4th review Text: it is good but in the background there is a lot of yellow colour which makes it a bit dull in the greenry also there is a lot of yellow Score: 0.00262432748092\n",
      "5th review Text: im definitely feeling this one but its not that much thrilling than the first one after you get the hang of it its just the same thing unlike survival run you get to swing and sky dive if temple run added a sky dive part instead of that coal cart then this would get 5 stars from me Score: 0.00262432748092\n",
      "Instance review for topic group: 17\n",
      "1th review Text: i have downloaded and downloaded this game several times and i still can t get past the developer s screen Score: 0.00233181761623\n",
      "2th review Text: now when i play the game it freezes Score: 0.00233181761623\n",
      "3th review Text: forecloses a lot runs slow stays on the logo for a long time once up to 10 mins then i just shut off please fix Score: 0.00233181761623\n",
      "4th review Text: its been barely 7 hours that i ve downloaded this game and i m on level 8 already Score: 0.00233181761623\n",
      "5th review Text: also the running route takes a little time to show up Score: 0.00233181761623\n",
      "Instance review for topic group: 18\n",
      "1th review Text: anyone else not saving their points Score: 0.0028240609825\n",
      "2th review Text: this game runs really smooth on my xperia play but i have found that when i fail a run and have points in power up bar they carry over to the nezt run i don t know if this is a feature or a bug Score: 0.0028240609825\n",
      "3th review Text: all those who say subway surfers is better should see how smooth temple run is as compared to that laggy subway surfers however it s also a good game Score: 0.0028240609825\n",
      "4th review Text: it won t loadmy temple run 2 won t load for me on my phone it stinks Score: 0.0028240609825\n",
      "5th review Text: looks like the force close on save me got fixed Score: 0.0028240609825\n",
      "Instance review for topic group: 19\n",
      "1th review Text: i couldn t even open the game not very happy Score: 0.00140538261533\n",
      "2th review Text: i first loved it and played it nonstop but now it won t load i will wait a long time obly to see it refresh my entire phone everytime i try to open it Score: 0.00140538261533\n",
      "3th review Text: awesome keep it up period ratingone game crashes at the opening screen Score: 0.00140538261533\n",
      "4th review Text: its given to have bugs at the start but eventually it ll be resolved over time Score: 0.00140538261533\n",
      "5th review Text: cant open on samsaung galaxy tab 1000 it will noy push thru it freezes and then close it Score: 0.00140538261533\n"
     ]
    }
   ],
   "source": [
    "# print the top 10 reviews:\n",
    "for i in range(len(rankedInstance)):\n",
    "    print(\"Instance review for topic group: \" + str(i))\n",
    "    for j in range(5):\n",
    "        r_ind = rankedInstance[i][j][0]\n",
    "        score = rankedInstance[i][j][1]\n",
    "        print(str(j+1) + \"th review \" + \"Text: \" +  informRev[r_ind].text + \" Score: \" + str(score) )"
   ]
  },
  {
   "cell_type": "markdown",
   "metadata": {},
   "source": [
    "### Ranking all the reviews in each group based on their importance score\n",
    "\n",
    "    Inputs: doc_topic             is a k*n_topics np matrix, which indicates the probability\n",
    "            weight                is a row vector (1 * 3), where each element denotes the weight of the corresponding feature\n",
    "    Outputs: topic_top10RevScores is a row vector (10 * 20), where each element is the ranked score of the corresponding review in each group"
   ]
  },
  {
   "cell_type": "code",
   "execution_count": 82,
   "metadata": {
    "collapsed": false
   },
   "outputs": [
    {
     "name": "stdout",
     "output_type": "stream",
     "text": [
      "Length of 0th topic has reviews: 1218\n",
      "Length of 1th topic has reviews: 1236\n",
      "Length of 2th topic has reviews: 1191\n",
      "Length of 3th topic has reviews: 747\n",
      "Length of 4th topic has reviews: 964\n",
      "Length of 5th topic has reviews: 1099\n",
      "Length of 6th topic has reviews: 1156\n",
      "Length of 7th topic has reviews: 753\n",
      "Length of 8th topic has reviews: 1045\n",
      "Length of 9th topic has reviews: 1173\n",
      "Length of 10th topic has reviews: 1191\n",
      "Length of 11th topic has reviews: 1072\n",
      "Length of 12th topic has reviews: 940\n",
      "Length of 13th topic has reviews: 900\n",
      "Length of 14th topic has reviews: 1175\n",
      "Length of 15th topic has reviews: 967\n",
      "Length of 16th topic has reviews: 878\n",
      "Length of 17th topic has reviews: 971\n",
      "Length of 18th topic has reviews: 955\n",
      "Length of 19th topic has reviews: 1188\n"
     ]
    }
   ],
   "source": [
    "%run ./AR_reviewRanking.py\n",
    "AR_tfIdf(informRev)\n",
    "weight = [0.25, 0.25, 0.25, 0.25]\n",
    "topic_top10RevScores = instance_ranking(doc_topic, weight, informRev)"
   ]
  },
  {
   "cell_type": "code",
   "execution_count": 83,
   "metadata": {
    "collapsed": false,
    "scrolled": true
   },
   "outputs": [
    {
     "name": "stdout",
     "output_type": "stream",
     "text": [
      "Instance review for topic group: 0\n",
      "1th review Text: opens and says imangi studios then closes and sends me to my home page Score: 0.9525\n",
      "2th review Text: when i open game it shows imangi studio symbol in green but then closes out Score: 0.9525\n",
      "3th review Text: i open it and the logo shows up and then it closes and goes to home screen Score: 0.947222222222\n",
      "4th review Text: it stays on the imangi studios picture for a few seconds then force closes Score: 0.947222222222\n",
      "5th review Text: sometimes when i try to play it just stay on the imangi screen and force closing idk why and it seems to lag a bit Score: 0.947222222222\n",
      "Instance review for topic group: 1\n",
      "1th review Text: paid 4 99 for the double coin thing Score: 0.905\n",
      "2th review Text: i bought the double coins and it doesnt work wtf Score: 0.905\n",
      "3th review Text: i did not receive the coins Score: 0.905\n",
      "4th review Text: paid 4 99 for the double coin thing Score: 0.905\n",
      "5th review Text: my coins are disappearing Score: 0.88125\n",
      "Instance review for topic group: 2\n",
      "1th review Text: ok but kinda laggy at times Score: 0.920833333333\n",
      "2th review Text: really need an improvement because this game is about speed and responsiveness Score: 0.905\n",
      "3th review Text: the entire game is too laggy Score: 0.88125\n",
      "4th review Text: laggy game play at times Score: 0.754166666667\n",
      "5th review Text: sometimes i turn to the left or right and it does not move but it is still good Score: 0.738333333333\n",
      "Instance review for topic group: 3\n",
      "1th review Text: when you try to maximize a powerup for a character using gems and then you try to switch to another powerups and then come back to the previous one again all the powerups gem upgrades are gone Score: 0.869736842105\n",
      "2th review Text: turn on the magnetic power and Score: 0.785833333333\n",
      "3th review Text: for instance if i have the magnet on and towards the end of the magnet i collect another magnet powerup it doesn t extend the magnet Score: 0.775961538462\n",
      "4th review Text: my only complaint is that time doesn t reset when you activate a power up and you pick up the same power along the way Score: 0.734090909091\n",
      "5th review Text: same when using powerup by double tapping and taking the same powerup while running Score: 0.731944444444\n",
      "Instance review for topic group: 4\n",
      "1th review Text: this app is run like a butter on my xperia neo v Score: 0.919444444444\n",
      "2th review Text: this game lags on my phone Score: 0.905\n",
      "3th review Text: lags a lot on my xperia neol Score: 0.905\n",
      "4th review Text: it lags with my phone Score: 0.88125\n",
      "5th review Text: terrible won t even open on my sony xperia x10 Score: 0.878125\n",
      "Instance review for topic group: 5\n",
      "1th review Text: please help works beautiful on gs3 just really dont like letting kid s play with new phone Score: 0.851666666667\n",
      "2th review Text: i have a gs3 so they shouldn t be laggy at all Score: 0.835\n",
      "3th review Text: hope that game would have more levels with different plaslces Score: 0.765476190476\n",
      "4th review Text: very frustrating to start all the way over again and again Score: 0.738333333333\n",
      "5th review Text: i need some new character Score: 0.705\n",
      "Instance review for topic group: 6\n",
      "1th review Text: can t open the app if they fix it would be a 5 star Score: 0.932142857143\n",
      "2th review Text: fix and ill give 5 stars Score: 0.920833333333\n",
      "3th review Text: need to fix the bugs it stop and go and it freeze up a lot need to be fix it a good game Score: 0.848076923077\n",
      "4th review Text: starts up and crashes really need to fix that please Score: 0.846875\n",
      "5th review Text: wont start up please fix Score: 0.8375\n",
      "Instance review for topic group: 7\n",
      "1th review Text: for the android version yu can t even see the screen Score: 0.9025\n",
      "2th review Text: the menu takes up all of my screen and lags like crazy Score: 0.8375\n",
      "3th review Text: even when we remove the music and the sound we still get sound in the menu while clicking and during the game the sound of him running Score: 0.760714285714\n",
      "4th review Text: the game doesn t fit the screen error in menu option too Score: 0.754166666667\n",
      "5th review Text: even though i have the sound and music set to silent you still get the running sound Score: 0.752083333333\n",
      "Instance review for topic group: 8\n",
      "1th review Text: forces close every time i try to save myself using gems when die on the rail Score: 0.9525\n",
      "2th review Text: my game crashes every time i try to use a revive now Score: 0.9525\n",
      "3th review Text: i have a highscore and when i hit the save me for the 3rd time in one run it freeze and take me to my home page Score: 0.932142857143\n",
      "4th review Text: i have a highscore and when i hit the save me for the 3rd time in one run it freeze and take me to my home page Score: 0.932142857143\n",
      "5th review Text: its stupid how every time i use a save me the game freezes and when i go back on to the game its like i never played that game that i used save me in although i lose that gem that i used for that save me i want my gems back and i want the game fixed now Score: 0.923275862069\n",
      "Instance review for topic group: 9\n",
      "1th review Text: add a sensibility option also Score: 0.9525\n",
      "2th review Text: add a sensibility option also Score: 0.920833333333\n",
      "3th review Text: played in iphone and it was a smother in the tilt controls Score: 0.905\n",
      "4th review Text: the controls to tilt are very unresponsive and they seem unnatural as if they are inverted Score: 0.773958333333\n",
      "5th review Text: but the tilt controls are not responsive Score: 0.765\n",
      "Instance review for topic group: 10\n",
      "1th review Text: i download it and it wont play i delete it and redownload it and it still wont play Score: 0.9525\n",
      "2th review Text: i have an lg thrill 3d and it wont even open Score: 0.940625\n",
      "3th review Text: still not able to open the app 2 9 2013 Score: 0.940625\n",
      "4th review Text: wont let me download it Score: 0.934090909091\n",
      "5th review Text: it will let me download but it wont let me play Score: 0.932142857143\n",
      "Instance review for topic group: 11\n",
      "1th review Text: slow response when swiping left and right Score: 0.932142857143\n",
      "2th review Text: i played a few times fine then today when i try to turn it makes me jump Score: 0.878125\n",
      "3th review Text: try and swipe to turn and jumps try and jump turns Score: 0.794444444444\n",
      "4th review Text: i have to tilt my phone sideways to stay on one side Score: 0.765476190476\n",
      "5th review Text: swiping in either direction to jump slide or turn does not respond too well Score: 0.760833333333\n",
      "Instance review for topic group: 12\n",
      "1th review Text: it keeps saying pacjage file invalid Score: 0.956818181818\n",
      "2th review Text: i am using galaxy tab gt p1000 and it keeps on saying that i can t download it due to an error 498 please help Score: 0.948214285714\n",
      "3th review Text: i have a droid and when i try to download the game it says package file is invalid Score: 0.940625\n",
      "4th review Text: cant download it says package file invalid Score: 0.940625\n",
      "5th review Text: what 2do when i download it says package is invalid Score: 0.940625\n",
      "Instance review for topic group: 13\n",
      "1th review Text: it lags a lot and we can only complete one objective at a time unlike from temple run 1 Score: 0.9525\n",
      "2th review Text: 500k objective its stuck at halfway bar Score: 0.932142857143\n",
      "3th review Text: why i run until 20million point le my objective already achieve still lag at there Score: 0.911363636364\n",
      "4th review Text: why i run until 20million point le my objective already achieve still lag at there Score: 0.911363636364\n",
      "5th review Text: have 800000 still it says to complete 500000 coins even after new update Score: 0.891666666667\n",
      "Instance review for topic group: 14\n",
      "1th review Text: i died every time i run Score: 0.8375\n",
      "2th review Text: it skips and then i die Score: 0.75625\n",
      "3th review Text: as i play it sometimes my phone starts to freeze up and i have to turn my phone of but other than that it is a fun game Score: 0.746590909091\n",
      "4th review Text: it freezes a lot Score: 0.714583333333\n",
      "5th review Text: i m with sgs3 and it skips frames from time to time and its very frustrating because you die Score: 0.697222222222\n",
      "Instance review for topic group: 15\n",
      "1th review Text: the game is good but it lags on my samsung galaxy wonder Score: 0.909375\n",
      "2th review Text: lags on the nexus 10 Score: 0.88125\n",
      "3th review Text: slight lag turning when playing with google nexus 10 Score: 0.88125\n",
      "4th review Text: before the most previous update made on 02 01 13 temple run 2 lagged a lot Score: 0.729761904762\n",
      "5th review Text: some parts of the game is still laggy in performance especially the graphics Score: 0.721875\n",
      "Instance review for topic group: 16\n",
      "1th review Text: the part where it s a narrow path you have to run on is sometimes hard to get on without falling Score: 0.769318181818\n",
      "2th review Text: sometimes jumps and lands but still falls through Score: 0.744642857143\n",
      "3th review Text: when using scarlet sometimes after using boost the speed remains the same without invulnerability Score: 0.706818181818\n",
      "4th review Text: i died halfway threw rope swing i died jumping he went off the track to the right i fall threw the ground i had 3 gems Score: 0.6890625\n",
      "5th review Text: ur runnig and get speed power and it doesn t overlap Score: 0.6734375\n",
      "Instance review for topic group: 17\n",
      "1th review Text: the downloading sucks it stayed at 29 for 3 hours Score: 0.879166666667\n",
      "2th review Text: the game keeps crashing on the start up i can t play it Score: 0.860714285714\n",
      "3th review Text: once i started to play dis game Score: 0.860714285714\n",
      "4th review Text: but with temple run 2 on my htc desire c it run trrmedously smooth Score: 0.836111111111\n",
      "5th review Text: a 5 star for it but takes a lot time to load Score: 0.729761904762\n",
      "Instance review for topic group: 18\n",
      "1th review Text: i cant download it an error accor i dont know why there is an error so plz plz fix this problem i really wanna try this new verion of temple run Score: 0.825\n",
      "2th review Text: way better than the first one it didnt run anywhere as smooth then this one Score: 0.769318181818\n",
      "3th review Text: but good adds to temple run 2 Score: 0.7125\n",
      "4th review Text: i had the same problem with temple run 1 and uninstalled because it was so bothersome Score: 0.7125\n",
      "5th review Text: i think its stupid i love the first temple run this new one feels wierd and that monkey is too big i just hate it Score: 0.701666666667\n",
      "Instance review for topic group: 19\n",
      "1th review Text: everytime i try to start the game it does not even finish loading it crashes forces close Score: 0.960416666667\n",
      "2th review Text: freezes forces closed every time i try to play Score: 0.947222222222\n",
      "3th review Text: every time i try to open the game it wouldn t work Score: 0.940625\n",
      "4th review Text: when opening app it force closes before you can do anything Score: 0.932142857143\n",
      "5th review Text: all that and the game crashes on load every time Score: 0.932142857143\n"
     ]
    }
   ],
   "source": [
    "# print the top 10 reviews:\n",
    "for i in range(len(topic_top10RevScores)):\n",
    "    print(\"Instance review for topic group: \" + str(i))\n",
    "    for j in range(5):\n",
    "        r_ind = topic_top10RevScores[i][j][0]\n",
    "        score = topic_top10RevScores[i][j][1]\n",
    "        print(str(j+1) + \"th review \" + \"Text: \" +  informRev[r_ind].text + \" Score: \" + str(score) )"
   ]
  },
  {
   "cell_type": "markdown",
   "metadata": {
    "collapsed": true
   },
   "source": [
    "### Visualization\n",
    "\n",
    "    Inputs:  group_scores is a list of scores of each group\n",
    "    Outputs: a radar chart"
   ]
  },
  {
   "cell_type": "code",
   "execution_count": 38,
   "metadata": {
    "collapsed": false
   },
   "outputs": [
    {
     "data": {
      "image/png": "[encoded data removed]",
      "text/plain": [
       "<matplotlib.figure.Figure at 0x118192b0>"
      ]
     },
     "metadata": {},
     "output_type": "display_data"
    }
   ],
   "source": [
    "%run ./AR_visualization.py\n",
    "\n",
    "N = 10\n",
    "theta = radar_factory(N, frame='polygon')\n",
    "\n",
    "fig = plt.figure()\n",
    "ax = fig.add_subplot(1, 1, 1, projection='radar')\n",
    "ax.set_title('Grouo scores', weight='bold', size='medium', position=(0.5, 1.1), horizontalalignment='center', verticalalignment='center')\n",
    "ax.plot(theta, group_scores[0:10], color='k')\n",
    "ax.set_varlabels(sorted_group_indices)\n",
    "plt.show()"
   ]
  },
  {
   "cell_type": "code",
   "execution_count": null,
   "metadata": {
    "collapsed": true
   },
   "outputs": [],
   "source": []
  }
 ],
 "metadata": {
  "anaconda-cloud": {},
  "kernelspec": {
   "display_name": "Python 2",
   "language": "python",
   "name": "python2"
  },
  "language_info": {
   "codemirror_mode": {
    "name": "ipython",
    "version": 2
   },
   "file_extension": ".py",
   "mimetype": "text/x-python",
   "name": "python",
   "nbconvert_exporter": "python",
   "pygments_lexer": "ipython2",
   "version": "2.7.13"
  }
 },
 "nbformat": 4,
 "nbformat_minor": 0
}
